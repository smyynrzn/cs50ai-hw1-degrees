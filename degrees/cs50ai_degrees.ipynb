{
 "cells": [
  {
   "cell_type": "code",
   "execution_count": 39,
   "id": "3dc51f0f-af7b-401e-b6d1-42f3ded9c22f",
   "metadata": {},
   "outputs": [],
   "source": [
    "import csv\n",
    "import sys\n",
    "\n",
    "from util import Node, StackFrontier, QueueFrontier"
   ]
  },
  {
   "cell_type": "code",
   "execution_count": 40,
   "id": "b86d5c35-ca45-4195-a037-f24f9fb10547",
   "metadata": {},
   "outputs": [],
   "source": [
    "# Maps names to a set of corresponding person_ids\n",
    "names = {}\n",
    "\n",
    "# Maps person_ids to a dictionary of: name, birth, movies (a set of movie_ids)\n",
    "people = {}\n",
    "\n",
    "# Maps movie_ids to a dictionary of: title, year, stars (a set of person_ids)\n",
    "movies = {}"
   ]
  },
  {
   "cell_type": "code",
   "execution_count": 41,
   "id": "d412cb1b-8e7f-44a8-a3cc-80855002c55d",
   "metadata": {},
   "outputs": [],
   "source": [
    "def load_data(directory):\n",
    "    \"\"\"\n",
    "    Load data from CSV files into memory.\n",
    "    \"\"\"\n",
    "    # Load people\n",
    "    with open(f\"{directory}/people.csv\", encoding=\"utf-8\") as f:\n",
    "        reader = csv.DictReader(f)\n",
    "        for row in reader:\n",
    "            people[row[\"id\"]] = {\n",
    "                \"name\": row[\"name\"],\n",
    "                \"birth\": row[\"birth\"],\n",
    "                \"movies\": set()\n",
    "            }\n",
    "            if row[\"name\"].lower() not in names:\n",
    "                names[row[\"name\"].lower()] = {row[\"id\"]}\n",
    "            else:\n",
    "                names[row[\"name\"].lower()].add(row[\"id\"])\n",
    "\n",
    "    # Load movies\n",
    "    with open(f\"{directory}/movies.csv\", encoding=\"utf-8\") as f:\n",
    "        reader = csv.DictReader(f)\n",
    "        for row in reader:\n",
    "            movies[row[\"id\"]] = {\n",
    "                \"title\": row[\"title\"],\n",
    "                \"year\": row[\"year\"],\n",
    "                \"stars\": set()\n",
    "            }\n",
    "\n",
    "    # Load stars\n",
    "    with open(f\"{directory}/stars.csv\", encoding=\"utf-8\") as f:\n",
    "        reader = csv.DictReader(f)\n",
    "        for row in reader:\n",
    "            try:\n",
    "                people[row[\"person_id\"]][\"movies\"].add(row[\"movie_id\"])\n",
    "                movies[row[\"movie_id\"]][\"stars\"].add(row[\"person_id\"])\n",
    "            except KeyError:\n",
    "                pass"
   ]
  },
  {
   "cell_type": "code",
   "execution_count": 42,
   "id": "37e84be3-0eee-4d3e-abd8-6a833aee7145",
   "metadata": {},
   "outputs": [],
   "source": [
    "load_data('small')"
   ]
  },
  {
   "cell_type": "code",
   "execution_count": 43,
   "id": "07c47d9f-6472-4b5c-bcf4-c34ea7b06666",
   "metadata": {},
   "outputs": [],
   "source": [
    "def main():\n",
    "    if len(sys.argv) > 2:\n",
    "        sys.exit(\"Usage: python degrees.py [directory]\")\n",
    "    directory = sys.argv[1] if len(sys.argv) == 2 else \"large\"\n",
    "\n",
    "    # Load data from files into memory\n",
    "    print(\"Loading data...\")\n",
    "    load_data(directory)\n",
    "    print(\"Data loaded.\")\n",
    "\n",
    "    source = person_id_for_name(input(\"Name: \"))\n",
    "    if source is None:\n",
    "        sys.exit(\"Person not found.\")\n",
    "    target = person_id_for_name(input(\"Name: \"))\n",
    "    if target is None:\n",
    "        sys.exit(\"Person not found.\")\n",
    "\n",
    "    path = shortest_path(source, target)\n",
    "\n",
    "    if path is None:\n",
    "        print(\"Not connected.\")\n",
    "    else:\n",
    "        degrees = len(path)\n",
    "        print(f\"{degrees} degrees of separation.\")\n",
    "        path = [(None, source)] + path\n",
    "        for i in range(degrees):\n",
    "            person1 = people[path[i][1]][\"name\"]\n",
    "            person2 = people[path[i + 1][1]][\"name\"]\n",
    "            movie = movies[path[i + 1][0]][\"title\"]\n",
    "            print(f\"{i + 1}: {person1} and {person2} starred in {movie}\")\n"
   ]
  },
  {
   "cell_type": "code",
   "execution_count": 77,
   "id": "4d6d2b0f-703a-4408-bd8b-f7b94cb294d6",
   "metadata": {},
   "outputs": [],
   "source": [
    "def shortest_path(source, target):\n",
    "    \"\"\"\n",
    "    Returns the shortest list of (movie_id, person_id) pairs\n",
    "    that connect the source to the target.\n",
    "\n",
    "    If no possible path, returns None.\n",
    "    \"\"\"\n",
    "\n",
    "    # TODO\n",
    "\n",
    "    # Keep track of number of states explored\n",
    "    num_explored = 0\n",
    "\n",
    "    # Initialize frontier to just the starting position\n",
    "    start = Node(state=source, parent=None, action=None)\n",
    "    frontier = QueueFrontier()\n",
    "    frontier.add(start)\n",
    "\n",
    "    # Initialize an empty explored set\n",
    "    explored = set()\n",
    "\n",
    "    # Keep looping until solution found\n",
    "    while True:\n",
    "\n",
    "        # If nothing left in frontier, then no path\n",
    "        if frontier.empty():\n",
    "            raise Exception(\"no solution\")\n",
    "\n",
    "        # Choose a node from the frontier\n",
    "        node = frontier.remove()\n",
    "        num_explored += 1\n",
    "\n",
    "        # If node is the goal, then we have a solution\n",
    "        if node.state == target:\n",
    "            actions = []\n",
    "            cells = []\n",
    "            while node.parent is not None:\n",
    "                actions.append(node.action)\n",
    "                cells.append(node.state)\n",
    "                node = node.parent\n",
    "            actions.reverse()\n",
    "            cells.reverse()\n",
    "            self.solution = (actions, cells)\n",
    "            return\n",
    "\n",
    "        # Mark node as explored\n",
    "        self.explored.add(node.state)\n",
    "\n",
    "        # Add neighbors to frontier\n",
    "        for action, state in self.neighbors(node.state):\n",
    "            if not frontier.contains_state(state) and state not in self.explored:\n",
    "                child = Node(state=state, parent=node, action=action)\n",
    "                frontier.add(child)\n"
   ]
  },
  {
   "cell_type": "code",
   "execution_count": 78,
   "id": "fbae47ab-023b-4411-b588-86c5adb5748a",
   "metadata": {},
   "outputs": [
    {
     "ename": "AttributeError",
     "evalue": "'str' object has no attribute 'state'",
     "output_type": "error",
     "traceback": [
      "\u001b[31m---------------------------------------------------------------------------\u001b[39m",
      "\u001b[31mAttributeError\u001b[39m                            Traceback (most recent call last)",
      "\u001b[36mCell\u001b[39m\u001b[36m \u001b[39m\u001b[32mIn[78]\u001b[39m\u001b[32m, line 1\u001b[39m\n\u001b[32m----> \u001b[39m\u001b[32m1\u001b[39m \u001b[43mshortest_path\u001b[49m\u001b[43m(\u001b[49m\u001b[33;43m'\u001b[39;49m\u001b[33;43m102\u001b[39;49m\u001b[33;43m'\u001b[39;49m\u001b[43m,\u001b[49m\u001b[33;43m'\u001b[39;49m\u001b[33;43m129\u001b[39;49m\u001b[33;43m'\u001b[39;49m\u001b[43m)\u001b[49m\n",
      "\u001b[36mCell\u001b[39m\u001b[36m \u001b[39m\u001b[32mIn[77]\u001b[39m\u001b[32m, line 25\u001b[39m, in \u001b[36mshortest_path\u001b[39m\u001b[34m(source, target)\u001b[39m\n\u001b[32m     22\u001b[39m node = frontier.remove()\n\u001b[32m     23\u001b[39m step_count += \u001b[32m1\u001b[39m\n\u001b[32m---> \u001b[39m\u001b[32m25\u001b[39m \u001b[38;5;28;01mif\u001b[39;00m \u001b[43mnode\u001b[49m\u001b[43m.\u001b[49m\u001b[43mstate\u001b[49m == target:\n\u001b[32m     26\u001b[39m     actions = []\n\u001b[32m     27\u001b[39m     cells = []\n",
      "\u001b[31mAttributeError\u001b[39m: 'str' object has no attribute 'state'"
     ]
    }
   ],
   "source": [
    "shortest_path('102','129')"
   ]
  },
  {
   "cell_type": "code",
   "execution_count": 45,
   "id": "9236ae4f-c8e8-43e4-be26-b0f7ea344e2b",
   "metadata": {},
   "outputs": [],
   "source": [
    "def person_id_for_name(name):\n",
    "    \"\"\"\n",
    "    Returns the IMDB id for a person's name,\n",
    "    resolving ambiguities as needed.\n",
    "    \"\"\"\n",
    "    person_ids = list(names.get(name.lower(), set()))\n",
    "    if len(person_ids) == 0:\n",
    "        return None\n",
    "    elif len(person_ids) > 1:\n",
    "        print(f\"Which '{name}'?\")\n",
    "        for person_id in person_ids:\n",
    "            person = people[person_id]\n",
    "            name = person[\"name\"]\n",
    "            birth = person[\"birth\"]\n",
    "            print(f\"ID: {person_id}, Name: {name}, Birth: {birth}\")\n",
    "        try:\n",
    "            person_id = input(\"Intended Person ID: \")\n",
    "            if person_id in person_ids:\n",
    "                return person_id\n",
    "        except ValueError:\n",
    "            pass\n",
    "        return None\n",
    "    else:\n",
    "        return person_ids[0]\n"
   ]
  },
  {
   "cell_type": "code",
   "execution_count": 46,
   "id": "57d660fa-1c15-4bad-8254-b15505c45cde",
   "metadata": {},
   "outputs": [],
   "source": [
    "#person_id_for_name('Kevin Bacon')"
   ]
  },
  {
   "cell_type": "code",
   "execution_count": 47,
   "id": "5fb3544f-36e1-41cd-a927-00fd10c21440",
   "metadata": {},
   "outputs": [],
   "source": [
    "def neighbors_for_person(person_id):\n",
    "    \"\"\"\n",
    "    Returns (movie_id, person_id) pairs for people\n",
    "    who starred with a given person.\n",
    "    \"\"\"\n",
    "    movie_ids = people[person_id][\"movies\"]\n",
    "    neighbors = set()\n",
    "    for movie_id in movie_ids:\n",
    "        for person_id in movies[movie_id][\"stars\"]:\n",
    "            neighbors.add((movie_id, person_id))\n",
    "    return neighbors\n"
   ]
  },
  {
   "cell_type": "code",
   "execution_count": 65,
   "id": "9e1944fb-e1f1-4d3f-b1ad-6f6d359cd7d3",
   "metadata": {},
   "outputs": [],
   "source": [
    "setneg = neighbors_for_person('102')"
   ]
  },
  {
   "cell_type": "code",
   "execution_count": 71,
   "id": "8741c4ad-ee8b-45d3-a08e-e5d4887d9d19",
   "metadata": {},
   "outputs": [
    {
     "data": {
      "text/plain": [
       "'158'"
      ]
     },
     "execution_count": 71,
     "metadata": {},
     "output_type": "execute_result"
    }
   ],
   "source": [
    "list(list(setneg)[1])[1]"
   ]
  },
  {
   "cell_type": "code",
   "execution_count": 67,
   "id": "f85b27f1-21bf-4a5b-a1c7-6ab13551b2ed",
   "metadata": {},
   "outputs": [
    {
     "data": {
      "text/plain": [
       "{('104257', '102'),\n",
       " ('104257', '129'),\n",
       " ('104257', '193'),\n",
       " ('104257', '197'),\n",
       " ('112384', '102'),\n",
       " ('112384', '158'),\n",
       " ('112384', '200'),\n",
       " ('112384', '641')}"
      ]
     },
     "execution_count": 67,
     "metadata": {},
     "output_type": "execute_result"
    }
   ],
   "source": [
    "setneg"
   ]
  },
  {
   "cell_type": "code",
   "execution_count": null,
   "id": "833441da-0851-4ffa-bd9b-0fab2c26ea00",
   "metadata": {},
   "outputs": [],
   "source": []
  }
 ],
 "metadata": {
  "kernelspec": {
   "display_name": "Python 3 (ipykernel)",
   "language": "python",
   "name": "python3"
  },
  "language_info": {
   "codemirror_mode": {
    "name": "ipython",
    "version": 3
   },
   "file_extension": ".py",
   "mimetype": "text/x-python",
   "name": "python",
   "nbconvert_exporter": "python",
   "pygments_lexer": "ipython3",
   "version": "3.11.4"
  }
 },
 "nbformat": 4,
 "nbformat_minor": 5
}
